{
 "cells": [
  {
   "cell_type": "code",
   "execution_count": 1,
   "metadata": {},
   "outputs": [],
   "source": [
    "%config IPCompleter.greedy=True"
   ]
  },
  {
   "cell_type": "code",
   "execution_count": 2,
   "metadata": {},
   "outputs": [],
   "source": [
    "import pandas as pd\n",
    "import numpy as np\n",
    "import matplotlib.pyplot as plt\n",
    "import geopandas\n",
    "\n",
    "from sklearn.preprocessing import LabelEncoder, StandardScaler\n",
    "from sklearn.model_selection import train_test_split\n",
    "\n",
    "import time\n",
    "import datetime\n",
    "from typing import Dict, Tuple"
   ]
  },
  {
   "cell_type": "markdown",
   "metadata": {},
   "source": [
    "# Load data"
   ]
  },
  {
   "cell_type": "code",
   "execution_count": 3,
   "metadata": {},
   "outputs": [],
   "source": [
    "training_values = pd.read_csv(\"../data/training_set_values.csv\")\n",
    "training_labels = pd.read_csv(\"../data/training_set_labels.csv\")\n",
    "\n",
    "test_values = pd.read_csv(\"../data/test_set_values.csv\")"
   ]
  },
  {
   "cell_type": "code",
   "execution_count": 4,
   "metadata": {},
   "outputs": [],
   "source": [
    "dataset = training_values.join(other = training_labels.set_index('id'), on='id')"
   ]
  },
  {
   "cell_type": "code",
   "execution_count": 5,
   "metadata": {},
   "outputs": [
    {
     "data": {
      "text/html": [
       "<div>\n",
       "<style scoped>\n",
       "    .dataframe tbody tr th:only-of-type {\n",
       "        vertical-align: middle;\n",
       "    }\n",
       "\n",
       "    .dataframe tbody tr th {\n",
       "        vertical-align: top;\n",
       "    }\n",
       "\n",
       "    .dataframe thead th {\n",
       "        text-align: right;\n",
       "    }\n",
       "</style>\n",
       "<table border=\"1\" class=\"dataframe\">\n",
       "  <thead>\n",
       "    <tr style=\"text-align: right;\">\n",
       "      <th></th>\n",
       "      <th>0</th>\n",
       "      <th>1</th>\n",
       "      <th>2</th>\n",
       "      <th>3</th>\n",
       "      <th>4</th>\n",
       "    </tr>\n",
       "  </thead>\n",
       "  <tbody>\n",
       "    <tr>\n",
       "      <th>id</th>\n",
       "      <td>69572</td>\n",
       "      <td>8776</td>\n",
       "      <td>34310</td>\n",
       "      <td>67743</td>\n",
       "      <td>19728</td>\n",
       "    </tr>\n",
       "    <tr>\n",
       "      <th>amount_tsh</th>\n",
       "      <td>6000</td>\n",
       "      <td>0</td>\n",
       "      <td>25</td>\n",
       "      <td>0</td>\n",
       "      <td>0</td>\n",
       "    </tr>\n",
       "    <tr>\n",
       "      <th>date_recorded</th>\n",
       "      <td>2011-03-14</td>\n",
       "      <td>2013-03-06</td>\n",
       "      <td>2013-02-25</td>\n",
       "      <td>2013-01-28</td>\n",
       "      <td>2011-07-13</td>\n",
       "    </tr>\n",
       "    <tr>\n",
       "      <th>funder</th>\n",
       "      <td>Roman</td>\n",
       "      <td>Grumeti</td>\n",
       "      <td>Lottery Club</td>\n",
       "      <td>Unicef</td>\n",
       "      <td>Action In A</td>\n",
       "    </tr>\n",
       "    <tr>\n",
       "      <th>gps_height</th>\n",
       "      <td>1390</td>\n",
       "      <td>1399</td>\n",
       "      <td>686</td>\n",
       "      <td>263</td>\n",
       "      <td>0</td>\n",
       "    </tr>\n",
       "    <tr>\n",
       "      <th>installer</th>\n",
       "      <td>Roman</td>\n",
       "      <td>GRUMETI</td>\n",
       "      <td>World vision</td>\n",
       "      <td>UNICEF</td>\n",
       "      <td>Artisan</td>\n",
       "    </tr>\n",
       "    <tr>\n",
       "      <th>longitude</th>\n",
       "      <td>34.9381</td>\n",
       "      <td>34.6988</td>\n",
       "      <td>37.4607</td>\n",
       "      <td>38.4862</td>\n",
       "      <td>31.1308</td>\n",
       "    </tr>\n",
       "    <tr>\n",
       "      <th>latitude</th>\n",
       "      <td>-9.85632</td>\n",
       "      <td>-2.14747</td>\n",
       "      <td>-3.82133</td>\n",
       "      <td>-11.1553</td>\n",
       "      <td>-1.82536</td>\n",
       "    </tr>\n",
       "    <tr>\n",
       "      <th>wpt_name</th>\n",
       "      <td>none</td>\n",
       "      <td>Zahanati</td>\n",
       "      <td>Kwa Mahundi</td>\n",
       "      <td>Zahanati Ya Nanyumbu</td>\n",
       "      <td>Shuleni</td>\n",
       "    </tr>\n",
       "    <tr>\n",
       "      <th>num_private</th>\n",
       "      <td>0</td>\n",
       "      <td>0</td>\n",
       "      <td>0</td>\n",
       "      <td>0</td>\n",
       "      <td>0</td>\n",
       "    </tr>\n",
       "    <tr>\n",
       "      <th>basin</th>\n",
       "      <td>Lake Nyasa</td>\n",
       "      <td>Lake Victoria</td>\n",
       "      <td>Pangani</td>\n",
       "      <td>Ruvuma / Southern Coast</td>\n",
       "      <td>Lake Victoria</td>\n",
       "    </tr>\n",
       "    <tr>\n",
       "      <th>subvillage</th>\n",
       "      <td>Mnyusi B</td>\n",
       "      <td>Nyamara</td>\n",
       "      <td>Majengo</td>\n",
       "      <td>Mahakamani</td>\n",
       "      <td>Kyanyamisa</td>\n",
       "    </tr>\n",
       "    <tr>\n",
       "      <th>region</th>\n",
       "      <td>Iringa</td>\n",
       "      <td>Mara</td>\n",
       "      <td>Manyara</td>\n",
       "      <td>Mtwara</td>\n",
       "      <td>Kagera</td>\n",
       "    </tr>\n",
       "    <tr>\n",
       "      <th>region_code</th>\n",
       "      <td>11</td>\n",
       "      <td>20</td>\n",
       "      <td>21</td>\n",
       "      <td>90</td>\n",
       "      <td>18</td>\n",
       "    </tr>\n",
       "    <tr>\n",
       "      <th>district_code</th>\n",
       "      <td>5</td>\n",
       "      <td>2</td>\n",
       "      <td>4</td>\n",
       "      <td>63</td>\n",
       "      <td>1</td>\n",
       "    </tr>\n",
       "    <tr>\n",
       "      <th>lga</th>\n",
       "      <td>Ludewa</td>\n",
       "      <td>Serengeti</td>\n",
       "      <td>Simanjiro</td>\n",
       "      <td>Nanyumbu</td>\n",
       "      <td>Karagwe</td>\n",
       "    </tr>\n",
       "    <tr>\n",
       "      <th>ward</th>\n",
       "      <td>Mundindi</td>\n",
       "      <td>Natta</td>\n",
       "      <td>Ngorika</td>\n",
       "      <td>Nanyumbu</td>\n",
       "      <td>Nyakasimbi</td>\n",
       "    </tr>\n",
       "    <tr>\n",
       "      <th>population</th>\n",
       "      <td>109</td>\n",
       "      <td>280</td>\n",
       "      <td>250</td>\n",
       "      <td>58</td>\n",
       "      <td>0</td>\n",
       "    </tr>\n",
       "    <tr>\n",
       "      <th>public_meeting</th>\n",
       "      <td>True</td>\n",
       "      <td>NaN</td>\n",
       "      <td>True</td>\n",
       "      <td>True</td>\n",
       "      <td>True</td>\n",
       "    </tr>\n",
       "    <tr>\n",
       "      <th>recorded_by</th>\n",
       "      <td>GeoData Consultants Ltd</td>\n",
       "      <td>GeoData Consultants Ltd</td>\n",
       "      <td>GeoData Consultants Ltd</td>\n",
       "      <td>GeoData Consultants Ltd</td>\n",
       "      <td>GeoData Consultants Ltd</td>\n",
       "    </tr>\n",
       "    <tr>\n",
       "      <th>scheme_management</th>\n",
       "      <td>VWC</td>\n",
       "      <td>Other</td>\n",
       "      <td>VWC</td>\n",
       "      <td>VWC</td>\n",
       "      <td>NaN</td>\n",
       "    </tr>\n",
       "    <tr>\n",
       "      <th>scheme_name</th>\n",
       "      <td>Roman</td>\n",
       "      <td>NaN</td>\n",
       "      <td>Nyumba ya mungu pipe scheme</td>\n",
       "      <td>NaN</td>\n",
       "      <td>NaN</td>\n",
       "    </tr>\n",
       "    <tr>\n",
       "      <th>permit</th>\n",
       "      <td>False</td>\n",
       "      <td>True</td>\n",
       "      <td>True</td>\n",
       "      <td>True</td>\n",
       "      <td>True</td>\n",
       "    </tr>\n",
       "    <tr>\n",
       "      <th>construction_year</th>\n",
       "      <td>1999</td>\n",
       "      <td>2010</td>\n",
       "      <td>2009</td>\n",
       "      <td>1986</td>\n",
       "      <td>0</td>\n",
       "    </tr>\n",
       "    <tr>\n",
       "      <th>extraction_type</th>\n",
       "      <td>gravity</td>\n",
       "      <td>gravity</td>\n",
       "      <td>gravity</td>\n",
       "      <td>submersible</td>\n",
       "      <td>gravity</td>\n",
       "    </tr>\n",
       "    <tr>\n",
       "      <th>extraction_type_group</th>\n",
       "      <td>gravity</td>\n",
       "      <td>gravity</td>\n",
       "      <td>gravity</td>\n",
       "      <td>submersible</td>\n",
       "      <td>gravity</td>\n",
       "    </tr>\n",
       "    <tr>\n",
       "      <th>extraction_type_class</th>\n",
       "      <td>gravity</td>\n",
       "      <td>gravity</td>\n",
       "      <td>gravity</td>\n",
       "      <td>submersible</td>\n",
       "      <td>gravity</td>\n",
       "    </tr>\n",
       "    <tr>\n",
       "      <th>management</th>\n",
       "      <td>vwc</td>\n",
       "      <td>wug</td>\n",
       "      <td>vwc</td>\n",
       "      <td>vwc</td>\n",
       "      <td>other</td>\n",
       "    </tr>\n",
       "    <tr>\n",
       "      <th>management_group</th>\n",
       "      <td>user-group</td>\n",
       "      <td>user-group</td>\n",
       "      <td>user-group</td>\n",
       "      <td>user-group</td>\n",
       "      <td>other</td>\n",
       "    </tr>\n",
       "    <tr>\n",
       "      <th>payment</th>\n",
       "      <td>pay annually</td>\n",
       "      <td>never pay</td>\n",
       "      <td>pay per bucket</td>\n",
       "      <td>never pay</td>\n",
       "      <td>never pay</td>\n",
       "    </tr>\n",
       "    <tr>\n",
       "      <th>payment_type</th>\n",
       "      <td>annually</td>\n",
       "      <td>never pay</td>\n",
       "      <td>per bucket</td>\n",
       "      <td>never pay</td>\n",
       "      <td>never pay</td>\n",
       "    </tr>\n",
       "    <tr>\n",
       "      <th>water_quality</th>\n",
       "      <td>soft</td>\n",
       "      <td>soft</td>\n",
       "      <td>soft</td>\n",
       "      <td>soft</td>\n",
       "      <td>soft</td>\n",
       "    </tr>\n",
       "    <tr>\n",
       "      <th>quality_group</th>\n",
       "      <td>good</td>\n",
       "      <td>good</td>\n",
       "      <td>good</td>\n",
       "      <td>good</td>\n",
       "      <td>good</td>\n",
       "    </tr>\n",
       "    <tr>\n",
       "      <th>quantity</th>\n",
       "      <td>enough</td>\n",
       "      <td>insufficient</td>\n",
       "      <td>enough</td>\n",
       "      <td>dry</td>\n",
       "      <td>seasonal</td>\n",
       "    </tr>\n",
       "    <tr>\n",
       "      <th>quantity_group</th>\n",
       "      <td>enough</td>\n",
       "      <td>insufficient</td>\n",
       "      <td>enough</td>\n",
       "      <td>dry</td>\n",
       "      <td>seasonal</td>\n",
       "    </tr>\n",
       "    <tr>\n",
       "      <th>source</th>\n",
       "      <td>spring</td>\n",
       "      <td>rainwater harvesting</td>\n",
       "      <td>dam</td>\n",
       "      <td>machine dbh</td>\n",
       "      <td>rainwater harvesting</td>\n",
       "    </tr>\n",
       "    <tr>\n",
       "      <th>source_type</th>\n",
       "      <td>spring</td>\n",
       "      <td>rainwater harvesting</td>\n",
       "      <td>dam</td>\n",
       "      <td>borehole</td>\n",
       "      <td>rainwater harvesting</td>\n",
       "    </tr>\n",
       "    <tr>\n",
       "      <th>source_class</th>\n",
       "      <td>groundwater</td>\n",
       "      <td>surface</td>\n",
       "      <td>surface</td>\n",
       "      <td>groundwater</td>\n",
       "      <td>surface</td>\n",
       "    </tr>\n",
       "    <tr>\n",
       "      <th>waterpoint_type</th>\n",
       "      <td>communal standpipe</td>\n",
       "      <td>communal standpipe</td>\n",
       "      <td>communal standpipe multiple</td>\n",
       "      <td>communal standpipe multiple</td>\n",
       "      <td>communal standpipe</td>\n",
       "    </tr>\n",
       "    <tr>\n",
       "      <th>waterpoint_type_group</th>\n",
       "      <td>communal standpipe</td>\n",
       "      <td>communal standpipe</td>\n",
       "      <td>communal standpipe</td>\n",
       "      <td>communal standpipe</td>\n",
       "      <td>communal standpipe</td>\n",
       "    </tr>\n",
       "    <tr>\n",
       "      <th>status_group</th>\n",
       "      <td>functional</td>\n",
       "      <td>functional</td>\n",
       "      <td>functional</td>\n",
       "      <td>non functional</td>\n",
       "      <td>functional</td>\n",
       "    </tr>\n",
       "  </tbody>\n",
       "</table>\n",
       "</div>"
      ],
      "text/plain": [
       "                                             0                        1  \\\n",
       "id                                       69572                     8776   \n",
       "amount_tsh                                6000                        0   \n",
       "date_recorded                       2011-03-14               2013-03-06   \n",
       "funder                                   Roman                  Grumeti   \n",
       "gps_height                                1390                     1399   \n",
       "installer                                Roman                  GRUMETI   \n",
       "longitude                              34.9381                  34.6988   \n",
       "latitude                              -9.85632                 -2.14747   \n",
       "wpt_name                                  none                 Zahanati   \n",
       "num_private                                  0                        0   \n",
       "basin                               Lake Nyasa            Lake Victoria   \n",
       "subvillage                            Mnyusi B                  Nyamara   \n",
       "region                                  Iringa                     Mara   \n",
       "region_code                                 11                       20   \n",
       "district_code                                5                        2   \n",
       "lga                                     Ludewa                Serengeti   \n",
       "ward                                  Mundindi                    Natta   \n",
       "population                                 109                      280   \n",
       "public_meeting                            True                      NaN   \n",
       "recorded_by            GeoData Consultants Ltd  GeoData Consultants Ltd   \n",
       "scheme_management                          VWC                    Other   \n",
       "scheme_name                              Roman                      NaN   \n",
       "permit                                   False                     True   \n",
       "construction_year                         1999                     2010   \n",
       "extraction_type                        gravity                  gravity   \n",
       "extraction_type_group                  gravity                  gravity   \n",
       "extraction_type_class                  gravity                  gravity   \n",
       "management                                 vwc                      wug   \n",
       "management_group                    user-group               user-group   \n",
       "payment                           pay annually                never pay   \n",
       "payment_type                          annually                never pay   \n",
       "water_quality                             soft                     soft   \n",
       "quality_group                             good                     good   \n",
       "quantity                                enough             insufficient   \n",
       "quantity_group                          enough             insufficient   \n",
       "source                                  spring     rainwater harvesting   \n",
       "source_type                             spring     rainwater harvesting   \n",
       "source_class                       groundwater                  surface   \n",
       "waterpoint_type             communal standpipe       communal standpipe   \n",
       "waterpoint_type_group       communal standpipe       communal standpipe   \n",
       "status_group                        functional               functional   \n",
       "\n",
       "                                                 2  \\\n",
       "id                                           34310   \n",
       "amount_tsh                                      25   \n",
       "date_recorded                           2013-02-25   \n",
       "funder                                Lottery Club   \n",
       "gps_height                                     686   \n",
       "installer                             World vision   \n",
       "longitude                                  37.4607   \n",
       "latitude                                  -3.82133   \n",
       "wpt_name                               Kwa Mahundi   \n",
       "num_private                                      0   \n",
       "basin                                      Pangani   \n",
       "subvillage                                 Majengo   \n",
       "region                                     Manyara   \n",
       "region_code                                     21   \n",
       "district_code                                    4   \n",
       "lga                                      Simanjiro   \n",
       "ward                                       Ngorika   \n",
       "population                                     250   \n",
       "public_meeting                                True   \n",
       "recorded_by                GeoData Consultants Ltd   \n",
       "scheme_management                              VWC   \n",
       "scheme_name            Nyumba ya mungu pipe scheme   \n",
       "permit                                        True   \n",
       "construction_year                             2009   \n",
       "extraction_type                            gravity   \n",
       "extraction_type_group                      gravity   \n",
       "extraction_type_class                      gravity   \n",
       "management                                     vwc   \n",
       "management_group                        user-group   \n",
       "payment                             pay per bucket   \n",
       "payment_type                            per bucket   \n",
       "water_quality                                 soft   \n",
       "quality_group                                 good   \n",
       "quantity                                    enough   \n",
       "quantity_group                              enough   \n",
       "source                                         dam   \n",
       "source_type                                    dam   \n",
       "source_class                               surface   \n",
       "waterpoint_type        communal standpipe multiple   \n",
       "waterpoint_type_group           communal standpipe   \n",
       "status_group                            functional   \n",
       "\n",
       "                                                 3                        4  \n",
       "id                                           67743                    19728  \n",
       "amount_tsh                                       0                        0  \n",
       "date_recorded                           2013-01-28               2011-07-13  \n",
       "funder                                      Unicef              Action In A  \n",
       "gps_height                                     263                        0  \n",
       "installer                                   UNICEF                  Artisan  \n",
       "longitude                                  38.4862                  31.1308  \n",
       "latitude                                  -11.1553                 -1.82536  \n",
       "wpt_name                      Zahanati Ya Nanyumbu                  Shuleni  \n",
       "num_private                                      0                        0  \n",
       "basin                      Ruvuma / Southern Coast            Lake Victoria  \n",
       "subvillage                              Mahakamani               Kyanyamisa  \n",
       "region                                      Mtwara                   Kagera  \n",
       "region_code                                     90                       18  \n",
       "district_code                                   63                        1  \n",
       "lga                                       Nanyumbu                  Karagwe  \n",
       "ward                                      Nanyumbu               Nyakasimbi  \n",
       "population                                      58                        0  \n",
       "public_meeting                                True                     True  \n",
       "recorded_by                GeoData Consultants Ltd  GeoData Consultants Ltd  \n",
       "scheme_management                              VWC                      NaN  \n",
       "scheme_name                                    NaN                      NaN  \n",
       "permit                                        True                     True  \n",
       "construction_year                             1986                        0  \n",
       "extraction_type                        submersible                  gravity  \n",
       "extraction_type_group                  submersible                  gravity  \n",
       "extraction_type_class                  submersible                  gravity  \n",
       "management                                     vwc                    other  \n",
       "management_group                        user-group                    other  \n",
       "payment                                  never pay                never pay  \n",
       "payment_type                             never pay                never pay  \n",
       "water_quality                                 soft                     soft  \n",
       "quality_group                                 good                     good  \n",
       "quantity                                       dry                 seasonal  \n",
       "quantity_group                                 dry                 seasonal  \n",
       "source                                 machine dbh     rainwater harvesting  \n",
       "source_type                               borehole     rainwater harvesting  \n",
       "source_class                           groundwater                  surface  \n",
       "waterpoint_type        communal standpipe multiple       communal standpipe  \n",
       "waterpoint_type_group           communal standpipe       communal standpipe  \n",
       "status_group                        non functional               functional  "
      ]
     },
     "execution_count": 5,
     "metadata": {},
     "output_type": "execute_result"
    }
   ],
   "source": [
    "dataset.head().T"
   ]
  },
  {
   "cell_type": "code",
   "execution_count": 6,
   "metadata": {},
   "outputs": [
    {
     "data": {
      "text/plain": [
       "id                         int64\n",
       "amount_tsh               float64\n",
       "date_recorded             object\n",
       "funder                    object\n",
       "gps_height                 int64\n",
       "installer                 object\n",
       "longitude                float64\n",
       "latitude                 float64\n",
       "wpt_name                  object\n",
       "num_private                int64\n",
       "basin                     object\n",
       "subvillage                object\n",
       "region                    object\n",
       "region_code                int64\n",
       "district_code              int64\n",
       "lga                       object\n",
       "ward                      object\n",
       "population                 int64\n",
       "public_meeting            object\n",
       "recorded_by               object\n",
       "scheme_management         object\n",
       "scheme_name               object\n",
       "permit                    object\n",
       "construction_year          int64\n",
       "extraction_type           object\n",
       "extraction_type_group     object\n",
       "extraction_type_class     object\n",
       "management                object\n",
       "management_group          object\n",
       "payment                   object\n",
       "payment_type              object\n",
       "water_quality             object\n",
       "quality_group             object\n",
       "quantity                  object\n",
       "quantity_group            object\n",
       "source                    object\n",
       "source_type               object\n",
       "source_class              object\n",
       "waterpoint_type           object\n",
       "waterpoint_type_group     object\n",
       "status_group              object\n",
       "dtype: object"
      ]
     },
     "execution_count": 6,
     "metadata": {},
     "output_type": "execute_result"
    }
   ],
   "source": [
    "dataset.dtypes"
   ]
  },
  {
   "cell_type": "code",
   "execution_count": 7,
   "metadata": {},
   "outputs": [
    {
     "data": {
      "text/html": [
       "<div>\n",
       "<style scoped>\n",
       "    .dataframe tbody tr th:only-of-type {\n",
       "        vertical-align: middle;\n",
       "    }\n",
       "\n",
       "    .dataframe tbody tr th {\n",
       "        vertical-align: top;\n",
       "    }\n",
       "\n",
       "    .dataframe thead th {\n",
       "        text-align: right;\n",
       "    }\n",
       "</style>\n",
       "<table border=\"1\" class=\"dataframe\">\n",
       "  <thead>\n",
       "    <tr style=\"text-align: right;\">\n",
       "      <th></th>\n",
       "      <th>id</th>\n",
       "      <th>amount_tsh</th>\n",
       "      <th>gps_height</th>\n",
       "      <th>longitude</th>\n",
       "      <th>latitude</th>\n",
       "      <th>num_private</th>\n",
       "      <th>region_code</th>\n",
       "      <th>district_code</th>\n",
       "      <th>population</th>\n",
       "      <th>construction_year</th>\n",
       "    </tr>\n",
       "  </thead>\n",
       "  <tbody>\n",
       "    <tr>\n",
       "      <th>count</th>\n",
       "      <td>59400.000000</td>\n",
       "      <td>59400.000000</td>\n",
       "      <td>59400.000000</td>\n",
       "      <td>59400.000000</td>\n",
       "      <td>5.940000e+04</td>\n",
       "      <td>59400.000000</td>\n",
       "      <td>59400.000000</td>\n",
       "      <td>59400.000000</td>\n",
       "      <td>59400.000000</td>\n",
       "      <td>59400.000000</td>\n",
       "    </tr>\n",
       "    <tr>\n",
       "      <th>mean</th>\n",
       "      <td>37115.131768</td>\n",
       "      <td>317.650385</td>\n",
       "      <td>668.297239</td>\n",
       "      <td>34.077427</td>\n",
       "      <td>-5.706033e+00</td>\n",
       "      <td>0.474141</td>\n",
       "      <td>15.297003</td>\n",
       "      <td>5.629747</td>\n",
       "      <td>179.909983</td>\n",
       "      <td>1300.652475</td>\n",
       "    </tr>\n",
       "    <tr>\n",
       "      <th>std</th>\n",
       "      <td>21453.128371</td>\n",
       "      <td>2997.574558</td>\n",
       "      <td>693.116350</td>\n",
       "      <td>6.567432</td>\n",
       "      <td>2.946019e+00</td>\n",
       "      <td>12.236230</td>\n",
       "      <td>17.587406</td>\n",
       "      <td>9.633649</td>\n",
       "      <td>471.482176</td>\n",
       "      <td>951.620547</td>\n",
       "    </tr>\n",
       "    <tr>\n",
       "      <th>min</th>\n",
       "      <td>0.000000</td>\n",
       "      <td>0.000000</td>\n",
       "      <td>-90.000000</td>\n",
       "      <td>0.000000</td>\n",
       "      <td>-1.164944e+01</td>\n",
       "      <td>0.000000</td>\n",
       "      <td>1.000000</td>\n",
       "      <td>0.000000</td>\n",
       "      <td>0.000000</td>\n",
       "      <td>0.000000</td>\n",
       "    </tr>\n",
       "    <tr>\n",
       "      <th>25%</th>\n",
       "      <td>18519.750000</td>\n",
       "      <td>0.000000</td>\n",
       "      <td>0.000000</td>\n",
       "      <td>33.090347</td>\n",
       "      <td>-8.540621e+00</td>\n",
       "      <td>0.000000</td>\n",
       "      <td>5.000000</td>\n",
       "      <td>2.000000</td>\n",
       "      <td>0.000000</td>\n",
       "      <td>0.000000</td>\n",
       "    </tr>\n",
       "    <tr>\n",
       "      <th>50%</th>\n",
       "      <td>37061.500000</td>\n",
       "      <td>0.000000</td>\n",
       "      <td>369.000000</td>\n",
       "      <td>34.908743</td>\n",
       "      <td>-5.021597e+00</td>\n",
       "      <td>0.000000</td>\n",
       "      <td>12.000000</td>\n",
       "      <td>3.000000</td>\n",
       "      <td>25.000000</td>\n",
       "      <td>1986.000000</td>\n",
       "    </tr>\n",
       "    <tr>\n",
       "      <th>75%</th>\n",
       "      <td>55656.500000</td>\n",
       "      <td>20.000000</td>\n",
       "      <td>1319.250000</td>\n",
       "      <td>37.178387</td>\n",
       "      <td>-3.326156e+00</td>\n",
       "      <td>0.000000</td>\n",
       "      <td>17.000000</td>\n",
       "      <td>5.000000</td>\n",
       "      <td>215.000000</td>\n",
       "      <td>2004.000000</td>\n",
       "    </tr>\n",
       "    <tr>\n",
       "      <th>max</th>\n",
       "      <td>74247.000000</td>\n",
       "      <td>350000.000000</td>\n",
       "      <td>2770.000000</td>\n",
       "      <td>40.345193</td>\n",
       "      <td>-2.000000e-08</td>\n",
       "      <td>1776.000000</td>\n",
       "      <td>99.000000</td>\n",
       "      <td>80.000000</td>\n",
       "      <td>30500.000000</td>\n",
       "      <td>2013.000000</td>\n",
       "    </tr>\n",
       "  </tbody>\n",
       "</table>\n",
       "</div>"
      ],
      "text/plain": [
       "                 id     amount_tsh    gps_height     longitude      latitude  \\\n",
       "count  59400.000000   59400.000000  59400.000000  59400.000000  5.940000e+04   \n",
       "mean   37115.131768     317.650385    668.297239     34.077427 -5.706033e+00   \n",
       "std    21453.128371    2997.574558    693.116350      6.567432  2.946019e+00   \n",
       "min        0.000000       0.000000    -90.000000      0.000000 -1.164944e+01   \n",
       "25%    18519.750000       0.000000      0.000000     33.090347 -8.540621e+00   \n",
       "50%    37061.500000       0.000000    369.000000     34.908743 -5.021597e+00   \n",
       "75%    55656.500000      20.000000   1319.250000     37.178387 -3.326156e+00   \n",
       "max    74247.000000  350000.000000   2770.000000     40.345193 -2.000000e-08   \n",
       "\n",
       "        num_private   region_code  district_code    population  \\\n",
       "count  59400.000000  59400.000000   59400.000000  59400.000000   \n",
       "mean       0.474141     15.297003       5.629747    179.909983   \n",
       "std       12.236230     17.587406       9.633649    471.482176   \n",
       "min        0.000000      1.000000       0.000000      0.000000   \n",
       "25%        0.000000      5.000000       2.000000      0.000000   \n",
       "50%        0.000000     12.000000       3.000000     25.000000   \n",
       "75%        0.000000     17.000000       5.000000    215.000000   \n",
       "max     1776.000000     99.000000      80.000000  30500.000000   \n",
       "\n",
       "       construction_year  \n",
       "count       59400.000000  \n",
       "mean         1300.652475  \n",
       "std           951.620547  \n",
       "min             0.000000  \n",
       "25%             0.000000  \n",
       "50%          1986.000000  \n",
       "75%          2004.000000  \n",
       "max          2013.000000  "
      ]
     },
     "execution_count": 7,
     "metadata": {},
     "output_type": "execute_result"
    }
   ],
   "source": [
    "dataset.describe()"
   ]
  },
  {
   "cell_type": "markdown",
   "metadata": {},
   "source": [
    "# Prepare data"
   ]
  },
  {
   "cell_type": "code",
   "execution_count": 8,
   "metadata": {},
   "outputs": [],
   "source": [
    "dataset = dataset.drop(['id'], axis=1)"
   ]
  },
  {
   "cell_type": "markdown",
   "metadata": {},
   "source": [
    "## Geodata"
   ]
  },
  {
   "cell_type": "code",
   "execution_count": 9,
   "metadata": {},
   "outputs": [],
   "source": [
    "def plot_geodata(dataset: pd.DataFrame): \n",
    "    gdf = geopandas.GeoDataFrame(training_values.copy(), \n",
    "                                 geometry=geopandas.points_from_xy(dataset.longitude, dataset.latitude))\n",
    "    world = geopandas.read_file(geopandas.datasets.get_path('naturalearth_lowres'))\n",
    "    ax = world[world.continent == 'Africa'].plot(color='white', edgecolor='black')\n",
    "\n",
    "    gdf.plot(ax=ax, color='red',  figsize=(64, 64))\n",
    "\n",
    "    plt.show()"
   ]
  },
  {
   "cell_type": "code",
   "execution_count": 10,
   "metadata": {},
   "outputs": [
    {
     "data": {
      "image/png": "[encoded data removed]",
      "text/plain": [
       "<Figure size 432x288 with 1 Axes>"
      ]
     },
     "metadata": {
      "needs_background": "light"
     },
     "output_type": "display_data"
    }
   ],
   "source": [
    "plot_geodata(dataset)"
   ]
  },
  {
   "cell_type": "markdown",
   "metadata": {},
   "source": [
    "### Dataset has zero-longitude data, replace with mean values\n",
    "Gives several % of accuracy boost"
   ]
  },
  {
   "cell_type": "code",
   "execution_count": 11,
   "metadata": {},
   "outputs": [],
   "source": [
    "def replace_zero_longitude_data(dataset: pd.DataFrame):\n",
    "    dataset['longitude'] = dataset['longitude'].replace(0, dataset['longitude'].mean())"
   ]
  },
  {
   "cell_type": "code",
   "execution_count": 12,
   "metadata": {},
   "outputs": [],
   "source": [
    "replace_zero_longitude_data(dataset)"
   ]
  },
  {
   "cell_type": "code",
   "execution_count": 13,
   "metadata": {},
   "outputs": [
    {
     "data": {
      "text/html": [
       "<div>\n",
       "<style scoped>\n",
       "    .dataframe tbody tr th:only-of-type {\n",
       "        vertical-align: middle;\n",
       "    }\n",
       "\n",
       "    .dataframe tbody tr th {\n",
       "        vertical-align: top;\n",
       "    }\n",
       "\n",
       "    .dataframe thead th {\n",
       "        text-align: right;\n",
       "    }\n",
       "</style>\n",
       "<table border=\"1\" class=\"dataframe\">\n",
       "  <thead>\n",
       "    <tr style=\"text-align: right;\">\n",
       "      <th></th>\n",
       "      <th>amount_tsh</th>\n",
       "      <th>gps_height</th>\n",
       "      <th>longitude</th>\n",
       "      <th>latitude</th>\n",
       "      <th>num_private</th>\n",
       "      <th>region_code</th>\n",
       "      <th>district_code</th>\n",
       "      <th>population</th>\n",
       "      <th>construction_year</th>\n",
       "    </tr>\n",
       "  </thead>\n",
       "  <tbody>\n",
       "    <tr>\n",
       "      <th>count</th>\n",
       "      <td>59400.000000</td>\n",
       "      <td>59400.000000</td>\n",
       "      <td>59400.000000</td>\n",
       "      <td>5.940000e+04</td>\n",
       "      <td>59400.000000</td>\n",
       "      <td>59400.000000</td>\n",
       "      <td>59400.000000</td>\n",
       "      <td>59400.000000</td>\n",
       "      <td>59400.000000</td>\n",
       "    </tr>\n",
       "    <tr>\n",
       "      <th>mean</th>\n",
       "      <td>317.650385</td>\n",
       "      <td>668.297239</td>\n",
       "      <td>35.116960</td>\n",
       "      <td>-5.706033e+00</td>\n",
       "      <td>0.474141</td>\n",
       "      <td>15.297003</td>\n",
       "      <td>5.629747</td>\n",
       "      <td>179.909983</td>\n",
       "      <td>1300.652475</td>\n",
       "    </tr>\n",
       "    <tr>\n",
       "      <th>std</th>\n",
       "      <td>2997.574558</td>\n",
       "      <td>693.116350</td>\n",
       "      <td>2.573963</td>\n",
       "      <td>2.946019e+00</td>\n",
       "      <td>12.236230</td>\n",
       "      <td>17.587406</td>\n",
       "      <td>9.633649</td>\n",
       "      <td>471.482176</td>\n",
       "      <td>951.620547</td>\n",
       "    </tr>\n",
       "    <tr>\n",
       "      <th>min</th>\n",
       "      <td>0.000000</td>\n",
       "      <td>-90.000000</td>\n",
       "      <td>29.607122</td>\n",
       "      <td>-1.164944e+01</td>\n",
       "      <td>0.000000</td>\n",
       "      <td>1.000000</td>\n",
       "      <td>0.000000</td>\n",
       "      <td>0.000000</td>\n",
       "      <td>0.000000</td>\n",
       "    </tr>\n",
       "    <tr>\n",
       "      <th>25%</th>\n",
       "      <td>0.000000</td>\n",
       "      <td>0.000000</td>\n",
       "      <td>33.354079</td>\n",
       "      <td>-8.540621e+00</td>\n",
       "      <td>0.000000</td>\n",
       "      <td>5.000000</td>\n",
       "      <td>2.000000</td>\n",
       "      <td>0.000000</td>\n",
       "      <td>0.000000</td>\n",
       "    </tr>\n",
       "    <tr>\n",
       "      <th>50%</th>\n",
       "      <td>0.000000</td>\n",
       "      <td>369.000000</td>\n",
       "      <td>34.908743</td>\n",
       "      <td>-5.021597e+00</td>\n",
       "      <td>0.000000</td>\n",
       "      <td>12.000000</td>\n",
       "      <td>3.000000</td>\n",
       "      <td>25.000000</td>\n",
       "      <td>1986.000000</td>\n",
       "    </tr>\n",
       "    <tr>\n",
       "      <th>75%</th>\n",
       "      <td>20.000000</td>\n",
       "      <td>1319.250000</td>\n",
       "      <td>37.178387</td>\n",
       "      <td>-3.326156e+00</td>\n",
       "      <td>0.000000</td>\n",
       "      <td>17.000000</td>\n",
       "      <td>5.000000</td>\n",
       "      <td>215.000000</td>\n",
       "      <td>2004.000000</td>\n",
       "    </tr>\n",
       "    <tr>\n",
       "      <th>max</th>\n",
       "      <td>350000.000000</td>\n",
       "      <td>2770.000000</td>\n",
       "      <td>40.345193</td>\n",
       "      <td>-2.000000e-08</td>\n",
       "      <td>1776.000000</td>\n",
       "      <td>99.000000</td>\n",
       "      <td>80.000000</td>\n",
       "      <td>30500.000000</td>\n",
       "      <td>2013.000000</td>\n",
       "    </tr>\n",
       "  </tbody>\n",
       "</table>\n",
       "</div>"
      ],
      "text/plain": [
       "          amount_tsh    gps_height     longitude      latitude   num_private  \\\n",
       "count   59400.000000  59400.000000  59400.000000  5.940000e+04  59400.000000   \n",
       "mean      317.650385    668.297239     35.116960 -5.706033e+00      0.474141   \n",
       "std      2997.574558    693.116350      2.573963  2.946019e+00     12.236230   \n",
       "min         0.000000    -90.000000     29.607122 -1.164944e+01      0.000000   \n",
       "25%         0.000000      0.000000     33.354079 -8.540621e+00      0.000000   \n",
       "50%         0.000000    369.000000     34.908743 -5.021597e+00      0.000000   \n",
       "75%        20.000000   1319.250000     37.178387 -3.326156e+00      0.000000   \n",
       "max    350000.000000   2770.000000     40.345193 -2.000000e-08   1776.000000   \n",
       "\n",
       "        region_code  district_code    population  construction_year  \n",
       "count  59400.000000   59400.000000  59400.000000       59400.000000  \n",
       "mean      15.297003       5.629747    179.909983        1300.652475  \n",
       "std       17.587406       9.633649    471.482176         951.620547  \n",
       "min        1.000000       0.000000      0.000000           0.000000  \n",
       "25%        5.000000       2.000000      0.000000           0.000000  \n",
       "50%       12.000000       3.000000     25.000000        1986.000000  \n",
       "75%       17.000000       5.000000    215.000000        2004.000000  \n",
       "max       99.000000      80.000000  30500.000000        2013.000000  "
      ]
     },
     "execution_count": 13,
     "metadata": {},
     "output_type": "execute_result"
    }
   ],
   "source": [
    "dataset.describe()"
   ]
  },
  {
   "cell_type": "code",
   "execution_count": 14,
   "metadata": {},
   "outputs": [
    {
     "data": {
      "image/png": "[encoded data removed]",
      "text/plain": [
       "<Figure size 432x288 with 1 Axes>"
      ]
     },
     "metadata": {
      "needs_background": "light"
     },
     "output_type": "display_data"
    }
   ],
   "source": [
    "plot_geodata(dataset)"
   ]
  },
  {
   "cell_type": "markdown",
   "metadata": {},
   "source": [
    "## Convert booleans to string\n",
    "Easier to work with later, handle as generic category"
   ]
  },
  {
   "cell_type": "code",
   "execution_count": 15,
   "metadata": {},
   "outputs": [],
   "source": [
    "def convert_column_to_string(dataset, column_name):\n",
    "    dataset[column_name] = dataset[column_name].astype(str)"
   ]
  },
  {
   "cell_type": "code",
   "execution_count": 16,
   "metadata": {},
   "outputs": [],
   "source": [
    "convert_column_to_string(dataset, 'permit')\n",
    "convert_column_to_string(dataset, 'public_meeting')"
   ]
  },
  {
   "cell_type": "markdown",
   "metadata": {},
   "source": [
    "## Check imbalance\n",
    "->Fixing imbalance causes overfitting, actually reducing accuracy"
   ]
  },
  {
   "cell_type": "code",
   "execution_count": 17,
   "metadata": {},
   "outputs": [],
   "source": [
    "#dataset['status_group'].value_counts()"
   ]
  },
  {
   "cell_type": "markdown",
   "metadata": {},
   "source": [
    "### Increase amount of 'functional needs repair' data"
   ]
  },
  {
   "cell_type": "code",
   "execution_count": 18,
   "metadata": {},
   "outputs": [],
   "source": [
    "#dataset_needs_repair = dataset[dataset['status_group'] == 'functional needs repair']\n",
    "\n",
    "#for _ in range(5):\n",
    "#    dataset = dataset.append(dataset_needs_repair)"
   ]
  },
  {
   "cell_type": "code",
   "execution_count": 19,
   "metadata": {},
   "outputs": [],
   "source": [
    "#dataset['status_group'].value_counts()"
   ]
  },
  {
   "cell_type": "markdown",
   "metadata": {},
   "source": [
    "## List categorical columns"
   ]
  },
  {
   "cell_type": "code",
   "execution_count": 20,
   "metadata": {},
   "outputs": [],
   "source": [
    "categorical_columns = ['funder',\n",
    "       'installer', 'wpt_name', \n",
    "       'basin', 'subvillage', 'region', 'lga',\n",
    "       'ward', 'public_meeting',\n",
    "       'scheme_management', \n",
    "       'scheme_name', \n",
    "       'permit',\n",
    "       'extraction_type', 'extraction_type_group', 'extraction_type_class',\n",
    "       'management', 'management_group', 'payment', 'payment_type',\n",
    "       'water_quality', 'quality_group', 'quantity', 'quantity_group',\n",
    "       'source', 'source_type', 'source_class', 'waterpoint_type',\n",
    "       'waterpoint_type_group',\n",
    "        \n",
    "       'status_group'] #result column"
   ]
  },
  {
   "cell_type": "markdown",
   "metadata": {},
   "source": [
    "##  Handle N/A values"
   ]
  },
  {
   "cell_type": "code",
   "execution_count": 21,
   "metadata": {},
   "outputs": [
    {
     "data": {
      "text/plain": [
       "amount_tsh                   0\n",
       "date_recorded                0\n",
       "funder                    3635\n",
       "gps_height                   0\n",
       "installer                 3655\n",
       "longitude                    0\n",
       "latitude                     0\n",
       "wpt_name                     0\n",
       "num_private                  0\n",
       "basin                        0\n",
       "subvillage                 371\n",
       "region                       0\n",
       "region_code                  0\n",
       "district_code                0\n",
       "lga                          0\n",
       "ward                         0\n",
       "population                   0\n",
       "public_meeting               0\n",
       "recorded_by                  0\n",
       "scheme_management         3877\n",
       "scheme_name              28166\n",
       "permit                       0\n",
       "construction_year            0\n",
       "extraction_type              0\n",
       "extraction_type_group        0\n",
       "extraction_type_class        0\n",
       "management                   0\n",
       "management_group             0\n",
       "payment                      0\n",
       "payment_type                 0\n",
       "water_quality                0\n",
       "quality_group                0\n",
       "quantity                     0\n",
       "quantity_group               0\n",
       "source                       0\n",
       "source_type                  0\n",
       "source_class                 0\n",
       "waterpoint_type              0\n",
       "waterpoint_type_group        0\n",
       "status_group                 0\n",
       "dtype: int64"
      ]
     },
     "execution_count": 21,
     "metadata": {},
     "output_type": "execute_result"
    }
   ],
   "source": [
    "dataset.isna().sum()"
   ]
  },
  {
   "cell_type": "markdown",
   "metadata": {},
   "source": [
    "### Replace other NaN with explicit 'n/a' value"
   ]
  },
  {
   "cell_type": "code",
   "execution_count": 22,
   "metadata": {},
   "outputs": [],
   "source": [
    "def replace_na_value(dataset: pd.DataFrame):\n",
    "    for column in categorical_columns:\n",
    "        if column not in dataset.columns:\n",
    "            continue\n",
    "        \n",
    "        dataset[column] = dataset[column].fillna('n/a')"
   ]
  },
  {
   "cell_type": "code",
   "execution_count": 23,
   "metadata": {},
   "outputs": [],
   "source": [
    "replace_na_value(dataset)"
   ]
  },
  {
   "cell_type": "markdown",
   "metadata": {},
   "source": [
    "## Encode categorical columns"
   ]
  },
  {
   "cell_type": "code",
   "execution_count": 24,
   "metadata": {},
   "outputs": [],
   "source": [
    "def encode_categorical_columns(dataset: pd.DataFrame) -> Dict[str, LabelEncoder]:\n",
    "    encoders = {} \n",
    "    for column in categorical_columns:\n",
    "        if column not in dataset.columns:\n",
    "            continue\n",
    "            \n",
    "        le = LabelEncoder()\n",
    "        le.fit(dataset[column])\n",
    "\n",
    "        dataset[column] = le.transform(dataset[column])\n",
    "        encoders[column]= le\n",
    "        \n",
    "    return encoders"
   ]
  },
  {
   "cell_type": "code",
   "execution_count": 25,
   "metadata": {},
   "outputs": [],
   "source": [
    "encoders = encode_categorical_columns(dataset)"
   ]
  },
  {
   "cell_type": "markdown",
   "metadata": {},
   "source": [
    "## Handle date columns\n",
    "Convert to epoch time"
   ]
  },
  {
   "cell_type": "code",
   "execution_count": 26,
   "metadata": {},
   "outputs": [],
   "source": [
    "date_columns = ['date_recorded']"
   ]
  },
  {
   "cell_type": "code",
   "execution_count": 27,
   "metadata": {},
   "outputs": [],
   "source": [
    "def convert_date_columns_to_epoch(dataset: pd.DataFrame, timestamp_format=\"%Y-%m-%d\"):\n",
    "    for column in date_columns:\n",
    "        dataset[column] = [ datetime.datetime.strptime(x, timestamp_format).timestamp() for x in dataset[column]]"
   ]
  },
  {
   "cell_type": "code",
   "execution_count": 28,
   "metadata": {},
   "outputs": [],
   "source": [
    "convert_date_columns_to_epoch(dataset)"
   ]
  },
  {
   "cell_type": "markdown",
   "metadata": {},
   "source": [
    "## Drop excess columns"
   ]
  },
  {
   "cell_type": "markdown",
   "metadata": {},
   "source": [
    "### Drop 'scheme_name' column since most data is absent\n",
    "->The idea was interesting, but apparently causes ~5% accuracy drop"
   ]
  },
  {
   "cell_type": "code",
   "execution_count": 29,
   "metadata": {},
   "outputs": [],
   "source": [
    "# dataset.drop('scheme_name', axis=1, inplace=True)"
   ]
  },
  {
   "cell_type": "markdown",
   "metadata": {},
   "source": [
    "### Drop 'recorded_by' because it has only one category value"
   ]
  },
  {
   "cell_type": "code",
   "execution_count": 30,
   "metadata": {},
   "outputs": [],
   "source": [
    "def drop_recorded_by(dataset: pd.DataFrame):\n",
    "    dataset.drop('recorded_by', axis=1, inplace=True)"
   ]
  },
  {
   "cell_type": "code",
   "execution_count": 31,
   "metadata": {},
   "outputs": [],
   "source": [
    "drop_recorded_by(dataset)"
   ]
  },
  {
   "cell_type": "markdown",
   "metadata": {},
   "source": [
    "### Drop columns which can be derived from other columns\n",
    "- https://towardsdatascience.com/the-search-for-categorical-correlation-a1cf7f1888c9\n",
    "- https://en.wikipedia.org/wiki/Uncertainty_coefficient"
   ]
  },
  {
   "cell_type": "code",
   "execution_count": 32,
   "metadata": {},
   "outputs": [],
   "source": [
    "def drop_derived_columns(dataset: pd.DataFrame):\n",
    "    drop_columns = ['region', \n",
    "                    'extraction_type_group', 'extraction_type_class', \n",
    "                    'management_group', \n",
    "                    'payment', \n",
    "                    'quality_group', \n",
    "                    'quantity', \n",
    "                    'source_type', 'source_class', \n",
    "                    'waterpoint_type_group']\n",
    "    dataset.drop(drop_columns,1, inplace=True)"
   ]
  },
  {
   "cell_type": "code",
   "execution_count": 33,
   "metadata": {},
   "outputs": [],
   "source": [
    "drop_derived_columns(dataset)"
   ]
  },
  {
   "cell_type": "markdown",
   "metadata": {},
   "source": [
    "## Scale/normalize all columns"
   ]
  },
  {
   "cell_type": "code",
   "execution_count": 34,
   "metadata": {},
   "outputs": [],
   "source": [
    "def scale_columns(dataset: pd.DataFrame):\n",
    "    scaler = StandardScaler()\n",
    "    dataset = scaler.fit_transform(dataset)\n",
    "    #dataset[values.columns] = scaler.fit_transform(dataset[dataset.columns])"
   ]
  },
  {
   "cell_type": "code",
   "execution_count": 35,
   "metadata": {},
   "outputs": [],
   "source": [
    "scale_columns(dataset)"
   ]
  },
  {
   "cell_type": "markdown",
   "metadata": {},
   "source": [
    "# Data prepared"
   ]
  },
  {
   "cell_type": "markdown",
   "metadata": {},
   "source": [
    "# ==========="
   ]
  },
  {
   "cell_type": "markdown",
   "metadata": {},
   "source": [
    "# Create function combining all data preparation"
   ]
  },
  {
   "cell_type": "code",
   "execution_count": 36,
   "metadata": {},
   "outputs": [],
   "source": [
    "def prepare_dataset(dataset: pd.DataFrame) -> Tuple[pd.DataFrame, pd.Series]:\n",
    "    id_column = dataset['id']\n",
    "    \n",
    "    dataset = dataset.drop(['id'], axis=1)\n",
    "    replace_zero_longitude_data(dataset)\n",
    "\n",
    "    convert_column_to_string(dataset, 'permit')\n",
    "    convert_column_to_string(dataset, 'public_meeting')\n",
    "\n",
    "    replace_na_value(dataset)\n",
    "\n",
    "    encode_categorical_columns(dataset)\n",
    "    convert_date_columns_to_epoch(dataset)\n",
    "\n",
    "    drop_recorded_by(dataset)\n",
    "    drop_derived_columns(dataset)\n",
    "\n",
    "    scale_columns(dataset)\n",
    "    \n",
    "    return dataset, id_column"
   ]
  },
  {
   "cell_type": "markdown",
   "metadata": {},
   "source": [
    "# Split dataset"
   ]
  },
  {
   "cell_type": "code",
   "execution_count": 37,
   "metadata": {},
   "outputs": [],
   "source": [
    "def split_dataset(dataset: pd.DataFrame): \n",
    "    X = dataset.iloc[:, :-1]\n",
    "    y = dataset.iloc[:, -1]\n",
    "    return train_test_split(X, y, test_size=0.1, random_state = 0)"
   ]
  },
  {
   "cell_type": "code",
   "execution_count": 38,
   "metadata": {},
   "outputs": [],
   "source": [
    "X_train, X_test, y_train, y_test = split_dataset(dataset)"
   ]
  },
  {
   "cell_type": "markdown",
   "metadata": {},
   "source": [
    "# Train models"
   ]
  },
  {
   "cell_type": "code",
   "execution_count": 39,
   "metadata": {},
   "outputs": [],
   "source": [
    "models_result = {}"
   ]
  },
  {
   "cell_type": "code",
   "execution_count": 40,
   "metadata": {},
   "outputs": [],
   "source": [
    "def update_result_print(models_result, model_name, clf, X_test, y_test):\n",
    "    accuracy = clf.score(X_test, y_test)\n",
    "\n",
    "    models_result[model_name] = accuracy\n",
    "    print(f'\"{model_name}\" has accuracy: {accuracy}') "
   ]
  },
  {
   "cell_type": "code",
   "execution_count": 41,
   "metadata": {},
   "outputs": [],
   "source": [
    "def plot_features_importances(classifier, X_train):\n",
    "    series = pd.Series(classifier.feature_importances_, index=X_train.columns).sort_values(ascending=True)\n",
    "    series = series.plot(kind='barh', figsize=(10,10))\n",
    "    plt.xlabel('Feature importance')\n",
    "    plt.ylabel('Features')\n",
    "    plt.show()"
   ]
  },
  {
   "cell_type": "markdown",
   "metadata": {},
   "source": [
    "## Random forest"
   ]
  },
  {
   "cell_type": "code",
   "execution_count": 42,
   "metadata": {},
   "outputs": [],
   "source": [
    "def random_forest(X_train, y_train):\n",
    "    from sklearn.ensemble import RandomForestClassifier\n",
    "    clf = RandomForestClassifier(max_depth=25, n_estimators = 42*5, criterion = 'entropy', random_state = 0)\n",
    "\n",
    "    clf.fit(X_train, y_train)\n",
    "    \n",
    "    return clf"
   ]
  },
  {
   "cell_type": "code",
   "execution_count": 43,
   "metadata": {},
   "outputs": [
    {
     "name": "stdout",
     "output_type": "stream",
     "text": [
      "\"Random forest\" has accuracy: 0.8183501683501684\n"
     ]
    },
    {
     "data": {
      "image/png": "[encoded data removed]",
      "text/plain": [
       "<Figure size 720x720 with 1 Axes>"
      ]
     },
     "metadata": {
      "needs_background": "light"
     },
     "output_type": "display_data"
    }
   ],
   "source": [
    "rf_clf = random_forest(X_train, y_train)\n",
    "update_result_print(models_result, 'Random forest', rf_clf, X_test, y_test)\n",
    "plot_features_importances(rf_clf, X_train)"
   ]
  },
  {
   "cell_type": "markdown",
   "metadata": {},
   "source": [
    "## Naive Bayes"
   ]
  },
  {
   "cell_type": "code",
   "execution_count": 44,
   "metadata": {},
   "outputs": [],
   "source": [
    "def gaussian_nb(X_train, y_train):\n",
    "    from sklearn.naive_bayes import GaussianNB\n",
    "    clf = GaussianNB()\n",
    "    \n",
    "    clf.fit(X_train, y_train)\n",
    "    \n",
    "    return clf"
   ]
  },
  {
   "cell_type": "code",
   "execution_count": 45,
   "metadata": {},
   "outputs": [
    {
     "name": "stdout",
     "output_type": "stream",
     "text": [
      "\"Naive Bayes\" has accuracy: 0.4094276094276094\n"
     ]
    }
   ],
   "source": [
    "bayes_clf = gaussian_nb(X_train, y_train)\n",
    "update_result_print(models_result, 'Naive Bayes', bayes_clf, X_test, y_test)\n",
    "#plot_features_importances(bayes_clf, X_train)"
   ]
  },
  {
   "cell_type": "markdown",
   "metadata": {},
   "source": [
    "## K-Nearest Neighbors"
   ]
  },
  {
   "cell_type": "code",
   "execution_count": 46,
   "metadata": {},
   "outputs": [],
   "source": [
    "def k_nearest(X_train, y_train):\n",
    "    from sklearn.neighbors import KNeighborsClassifier\n",
    "    clf = KNeighborsClassifier(n_neighbors=3)\n",
    "    \n",
    "    clf.fit(X_train, y_train)\n",
    "    \n",
    "    return clf"
   ]
  },
  {
   "cell_type": "code",
   "execution_count": 47,
   "metadata": {},
   "outputs": [
    {
     "name": "stdout",
     "output_type": "stream",
     "text": [
      "\"K-Nearest Neighbors\" has accuracy: 0.5930976430976431\n"
     ]
    }
   ],
   "source": [
    "k_nearest_clf = k_nearest(X_train, y_train)\n",
    "update_result_print(models_result, 'K-Nearest Neighbors', k_nearest_clf, X_test, y_test)\n",
    "#plot_features_importances(k_nearest_clf, X_train)"
   ]
  },
  {
   "cell_type": "markdown",
   "metadata": {},
   "source": [
    "## Multi-layer perceptron\n",
    "TODO requires OneHotEncoder"
   ]
  },
  {
   "cell_type": "code",
   "execution_count": 48,
   "metadata": {},
   "outputs": [],
   "source": [
    "def mlp(X_train, y_train):\n",
    "    from sklearn.neural_network import MLPClassifier\n",
    "    clf = MLPClassifier(solver='adam', alpha=1e-5,\n",
    "                        hidden_layer_sizes=(X_train.columns.size, X_train.columns.size), \n",
    "                        max_iter=10, activation='relu',\n",
    "                        learning_rate_init=.1,\n",
    "                        random_state=0)\n",
    "    \n",
    "    clf.fit(X_train, y_train)\n",
    "    \n",
    "    return clf"
   ]
  },
  {
   "cell_type": "code",
   "execution_count": 49,
   "metadata": {},
   "outputs": [
    {
     "name": "stdout",
     "output_type": "stream",
     "text": [
      "\"Multi-layer perceptron\" has accuracy: 0.5476430976430976\n"
     ]
    },
    {
     "name": "stderr",
     "output_type": "stream",
     "text": [
      "/Users/evilkhaoskat/anaconda3/lib/python3.7/site-packages/sklearn/neural_network/multilayer_perceptron.py:566: ConvergenceWarning: Stochastic Optimizer: Maximum iterations (10) reached and the optimization hasn't converged yet.\n",
      "  % self.max_iter, ConvergenceWarning)\n"
     ]
    }
   ],
   "source": [
    "mlp_clf = mlp(X_train, y_train)\n",
    "update_result_print(models_result, 'Multi-layer perceptron', mlp_clf, X_test, y_test)\n",
    "#plot_features_importances(mlp_clf, X_train)"
   ]
  },
  {
   "cell_type": "markdown",
   "metadata": {},
   "source": [
    "## Support Vector Machine"
   ]
  },
  {
   "cell_type": "code",
   "execution_count": 50,
   "metadata": {},
   "outputs": [],
   "source": [
    "def svm(X_train, y_train):\n",
    "    from sklearn.svm import LinearSVC #better for large dataset then SVC\n",
    "    clf = LinearSVC()\n",
    "    \n",
    "    clf.fit(X_train, y_train)\n",
    "    \n",
    "    return clf"
   ]
  },
  {
   "cell_type": "code",
   "execution_count": 51,
   "metadata": {},
   "outputs": [
    {
     "name": "stdout",
     "output_type": "stream",
     "text": [
      "\"Support Vector Machine\" has accuracy: 0.38097643097643097\n"
     ]
    },
    {
     "name": "stderr",
     "output_type": "stream",
     "text": [
      "/Users/evilkhaoskat/anaconda3/lib/python3.7/site-packages/sklearn/svm/base.py:929: ConvergenceWarning: Liblinear failed to converge, increase the number of iterations.\n",
      "  \"the number of iterations.\", ConvergenceWarning)\n"
     ]
    }
   ],
   "source": [
    "svm_clf = svm(X_train, y_train)\n",
    "update_result_print(models_result, 'Support Vector Machine', svm_clf, X_test, y_test)\n",
    "#plot_features_importances(svm_clf, X_train)"
   ]
  },
  {
   "cell_type": "markdown",
   "metadata": {},
   "source": [
    "## XGBoost"
   ]
  },
  {
   "cell_type": "code",
   "execution_count": 52,
   "metadata": {
    "scrolled": true
   },
   "outputs": [],
   "source": [
    "def xgb(X_train, y_train):\n",
    "    from xgboost import XGBClassifier\n",
    "    clf = XGBClassifier(nthread=2, num_class=3, \n",
    "                        min_child_weight=3, max_depth=15,\n",
    "                        gamma=0.5, scale_pos_weight=0.8,\n",
    "                        subsample=0.7, colsample_bytree = 0.8,\n",
    "                        objective='multi:softmax')\n",
    "    clf.fit(X_train, y_train)\n",
    "    \n",
    "    return clf"
   ]
  },
  {
   "cell_type": "code",
   "execution_count": 53,
   "metadata": {},
   "outputs": [
    {
     "name": "stdout",
     "output_type": "stream",
     "text": [
      "\"XGBoost\" has accuracy: 0.8203703703703704\n"
     ]
    },
    {
     "data": {
      "image/png": "[encoded data removed]",
      "text/plain": [
       "<Figure size 720x720 with 1 Axes>"
      ]
     },
     "metadata": {
      "needs_background": "light"
     },
     "output_type": "display_data"
    }
   ],
   "source": [
    "xgb_clf = xgb(X_train, y_train)\n",
    "update_result_print(models_result, 'XGBoost', xgb_clf, X_test, y_test)\n",
    "plot_features_importances(xgb_clf, X_train)"
   ]
  },
  {
   "cell_type": "markdown",
   "metadata": {},
   "source": [
    "## CatBoost"
   ]
  },
  {
   "cell_type": "code",
   "execution_count": 54,
   "metadata": {},
   "outputs": [],
   "source": [
    "def catboost(X_train, y_train):\n",
    "    from catboost import CatBoostClassifier\n",
    "    clf = CatBoostClassifier(iterations=42,\n",
    "                             learning_rate=.5,\n",
    "                             depth=12,\n",
    "                             loss_function='MultiClass')\n",
    "    \n",
    "    clf.fit(X_train, y_train)\n",
    "    \n",
    "    return clf"
   ]
  },
  {
   "cell_type": "code",
   "execution_count": 55,
   "metadata": {},
   "outputs": [
    {
     "name": "stdout",
     "output_type": "stream",
     "text": [
      "0:\tlearn: 0.7977785\ttotal: 571ms\tremaining: 23.4s\n",
      "1:\tlearn: 0.6934912\ttotal: 1.11s\tremaining: 22.1s\n",
      "2:\tlearn: 0.6360966\ttotal: 1.61s\tremaining: 21s\n",
      "3:\tlearn: 0.6068383\ttotal: 2.13s\tremaining: 20.2s\n",
      "4:\tlearn: 0.5824193\ttotal: 2.61s\tremaining: 19.3s\n",
      "5:\tlearn: 0.5571081\ttotal: 3.09s\tremaining: 18.5s\n",
      "6:\tlearn: 0.5446768\ttotal: 3.56s\tremaining: 17.8s\n",
      "7:\tlearn: 0.5278021\ttotal: 4.03s\tremaining: 17.1s\n",
      "8:\tlearn: 0.5177401\ttotal: 4.5s\tremaining: 16.5s\n",
      "9:\tlearn: 0.5067473\ttotal: 4.99s\tremaining: 16s\n",
      "10:\tlearn: 0.4978268\ttotal: 5.46s\tremaining: 15.4s\n",
      "11:\tlearn: 0.4937401\ttotal: 5.93s\tremaining: 14.8s\n",
      "12:\tlearn: 0.4842631\ttotal: 6.4s\tremaining: 14.3s\n",
      "13:\tlearn: 0.4781417\ttotal: 6.87s\tremaining: 13.7s\n",
      "14:\tlearn: 0.4715304\ttotal: 7.34s\tremaining: 13.2s\n",
      "15:\tlearn: 0.4628038\ttotal: 7.81s\tremaining: 12.7s\n",
      "16:\tlearn: 0.4576100\ttotal: 8.34s\tremaining: 12.3s\n",
      "17:\tlearn: 0.4477121\ttotal: 8.83s\tremaining: 11.8s\n",
      "18:\tlearn: 0.4412385\ttotal: 9.3s\tremaining: 11.3s\n",
      "19:\tlearn: 0.4285886\ttotal: 9.78s\tremaining: 10.8s\n",
      "20:\tlearn: 0.4259788\ttotal: 10.2s\tremaining: 10.2s\n",
      "21:\tlearn: 0.4212379\ttotal: 10.7s\tremaining: 9.73s\n",
      "22:\tlearn: 0.4172524\ttotal: 11.2s\tremaining: 9.23s\n",
      "23:\tlearn: 0.4140378\ttotal: 11.6s\tremaining: 8.73s\n",
      "24:\tlearn: 0.4099709\ttotal: 12.1s\tremaining: 8.24s\n",
      "25:\tlearn: 0.4066286\ttotal: 12.6s\tremaining: 7.74s\n",
      "26:\tlearn: 0.3988330\ttotal: 13.1s\tremaining: 7.25s\n",
      "27:\tlearn: 0.3924667\ttotal: 13.6s\tremaining: 6.79s\n",
      "28:\tlearn: 0.3870014\ttotal: 14.1s\tremaining: 6.34s\n",
      "29:\tlearn: 0.3823674\ttotal: 14.7s\tremaining: 5.9s\n",
      "30:\tlearn: 0.3782001\ttotal: 15.5s\tremaining: 5.51s\n",
      "31:\tlearn: 0.3738551\ttotal: 16.1s\tremaining: 5.02s\n",
      "32:\tlearn: 0.3691289\ttotal: 16.5s\tremaining: 4.5s\n",
      "33:\tlearn: 0.3637771\ttotal: 17s\tremaining: 4s\n",
      "34:\tlearn: 0.3597679\ttotal: 17.5s\tremaining: 3.5s\n",
      "35:\tlearn: 0.3564004\ttotal: 18s\tremaining: 3s\n",
      "36:\tlearn: 0.3532808\ttotal: 18.5s\tremaining: 2.5s\n",
      "37:\tlearn: 0.3482506\ttotal: 19s\tremaining: 2s\n",
      "38:\tlearn: 0.3443216\ttotal: 19.5s\tremaining: 1.5s\n",
      "39:\tlearn: 0.3418441\ttotal: 20s\tremaining: 998ms\n",
      "40:\tlearn: 0.3378558\ttotal: 20.4s\tremaining: 499ms\n",
      "41:\tlearn: 0.3342902\ttotal: 20.9s\tremaining: 0us\n",
      "\"CatBoost\" has accuracy: 0.7984848484848485\n"
     ]
    },
    {
     "data": {
      "image/png": "[encoded data removed]",
      "text/plain": [
       "<Figure size 720x720 with 1 Axes>"
      ]
     },
     "metadata": {
      "needs_background": "light"
     },
     "output_type": "display_data"
    }
   ],
   "source": [
    "cat_clf = catboost(X_train, y_train)\n",
    "update_result_print(models_result, 'CatBoost', cat_clf, X_test, y_test)\n",
    "plot_features_importances(cat_clf, X_train)"
   ]
  },
  {
   "cell_type": "markdown",
   "metadata": {},
   "source": [
    "# Results"
   ]
  },
  {
   "cell_type": "code",
   "execution_count": 56,
   "metadata": {},
   "outputs": [
    {
     "name": "stdout",
     "output_type": "stream",
     "text": [
      "XGBoost                   0.8203703703703704\n",
      "Random forest             0.8183501683501684\n",
      "CatBoost                  0.7984848484848485\n",
      "K-Nearest Neighbors       0.5930976430976431\n",
      "Multi-layer perceptron    0.5476430976430976\n",
      "Naive Bayes               0.4094276094276094\n",
      "Support Vector Machine    0.38097643097643097\n"
     ]
    }
   ],
   "source": [
    "for k,v in sorted(models_result.items(), key=lambda entry:entry[1], reverse=True):\n",
    "    print(f'{k:25s} {v}')"
   ]
  },
  {
   "cell_type": "markdown",
   "metadata": {},
   "source": [
    "# Use best model to make prediction for test data"
   ]
  },
  {
   "cell_type": "code",
   "execution_count": 57,
   "metadata": {},
   "outputs": [],
   "source": [
    "real_X, real_id_column = prepare_dataset(test_values)"
   ]
  },
  {
   "cell_type": "code",
   "execution_count": 58,
   "metadata": {},
   "outputs": [],
   "source": [
    "real_y = rf_clf.predict(real_X)"
   ]
  },
  {
   "cell_type": "markdown",
   "metadata": {},
   "source": [
    "## Decode result values"
   ]
  },
  {
   "cell_type": "code",
   "execution_count": 59,
   "metadata": {},
   "outputs": [],
   "source": [
    "status_group_encoder = encoders['status_group']"
   ]
  },
  {
   "cell_type": "code",
   "execution_count": 60,
   "metadata": {},
   "outputs": [],
   "source": [
    "real_decoded_y = pd.DataFrame(status_group_encoder.inverse_transform(real_y), columns = ['status_group'])"
   ]
  },
  {
   "cell_type": "markdown",
   "metadata": {},
   "source": [
    "## Prepare result matrix: id, decoded status group"
   ]
  },
  {
   "cell_type": "code",
   "execution_count": 61,
   "metadata": {},
   "outputs": [],
   "source": [
    "result = pd.concat([real_id_column, real_decoded_y], axis=1)"
   ]
  },
  {
   "cell_type": "code",
   "execution_count": 62,
   "metadata": {},
   "outputs": [],
   "source": [
    "result.to_csv(\"../submisssion.csv\", index=False)"
   ]
  }
 ],
 "metadata": {
  "kernelspec": {
   "display_name": "Python 3",
   "language": "python",
   "name": "python3"
  },
  "language_info": {
   "codemirror_mode": {
    "name": "ipython",
    "version": 3
   },
   "file_extension": ".py",
   "mimetype": "text/x-python",
   "name": "python",
   "nbconvert_exporter": "python",
   "pygments_lexer": "ipython3",
   "version": "3.7.4"
  }
 },
 "nbformat": 4,
 "nbformat_minor": 2
}
